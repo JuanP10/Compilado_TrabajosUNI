{
  "nbformat": 4,
  "nbformat_minor": 0,
  "metadata": {
    "colab": {
      "name": "Librerias.ipynb",
      "provenance": [],
      "collapsed_sections": []
    },
    "kernelspec": {
      "name": "python3",
      "display_name": "Python 3"
    },
    "language_info": {
      "name": "python"
    }
  },
  "cells": [
    {
      "cell_type": "code",
      "execution_count": null,
      "metadata": {
        "id": "8xJxNXuVrQ5m"
      },
      "outputs": [],
      "source": [
        "import numpy as np\n",
        "import csv\n",
        "import json"
      ]
    },
    {
      "cell_type": "code",
      "source": [
        "lista = np.array([2,3,4,5,100,-10])\n",
        "# print(lista, type(lista))\n",
        "\n",
        "# print(lista + 5)  # suma 5 a todos los elementos de la lista\n",
        "# print(lista * 5)  # multiplica 5 a todos los elementos de la lista\n",
        "\n",
        "print(lista.max())\n",
        "\n",
        "print(lista.min())\n",
        "print(lista.mean())\n",
        "print(lista.std())\n",
        "print(lista.sum())\n",
        "print(np.median(lista))\n",
        "print(np.min(lista))\n",
        "\n",
        "print(lista[0])"
      ],
      "metadata": {
        "id": "mUJKAf272eGx",
        "colab": {
          "base_uri": "https://localhost:8080/"
        },
        "outputId": "9567789e-5b68-422b-a527-48d732d75b2f"
      },
      "execution_count": null,
      "outputs": [
        {
          "output_type": "stream",
          "name": "stdout",
          "text": [
            "100\n",
            "-10\n",
            "17.333333333333332\n",
            "37.308027137452456\n",
            "104\n",
            "3.5\n",
            "-10\n",
            "2\n"
          ]
        }
      ]
    },
    {
      "cell_type": "code",
      "source": [
        "from numpy import random as rd\n",
        "\n",
        "lista =[6 ,7 ,8 ,9 ,10 ,11 ,12]\n",
        "rd.shuffle(lista)\n",
        "print(lista)\n"
      ],
      "metadata": {
        "colab": {
          "base_uri": "https://localhost:8080/"
        },
        "id": "E9nBaapf7Dca",
        "outputId": "15b0b7f5-b942-4a59-cb81-fc58da257ee3"
      },
      "execution_count": null,
      "outputs": [
        {
          "output_type": "stream",
          "name": "stdout",
          "text": [
            "[9, 7, 6, 10, 12, 11, 8]\n"
          ]
        }
      ]
    },
    {
      "cell_type": "code",
      "source": [
        "import numpy as np\n",
        "\n",
        "lista =[6 ,7 ,8 ,9 ,10 ,11 ,12]\n",
        "np.random.shuffle(lista)\n",
        "print(lista)"
      ],
      "metadata": {
        "colab": {
          "base_uri": "https://localhost:8080/"
        },
        "id": "gT8K1cwI9MGU",
        "outputId": "cc746ac5-4498-4087-a0ee-cc12ab258d41"
      },
      "execution_count": null,
      "outputs": [
        {
          "output_type": "stream",
          "name": "stdout",
          "text": [
            "[10, 11, 9, 6, 12, 8, 7]\n"
          ]
        }
      ]
    },
    {
      "cell_type": "code",
      "source": [
        "#lista =[0,0,0,0,0,0,0,0]\n",
        "lista = np.ones(10,dtype=int)\n",
        "print(lista)"
      ],
      "metadata": {
        "colab": {
          "base_uri": "https://localhost:8080/"
        },
        "id": "xlWyIXB99n-r",
        "outputId": "c13c7080-f19c-4d25-c71a-aae20d35a952"
      },
      "execution_count": null,
      "outputs": [
        {
          "output_type": "stream",
          "name": "stdout",
          "text": [
            "[1 1 1 1 1 1 1 1 1 1]\n"
          ]
        }
      ]
    },
    {
      "cell_type": "code",
      "source": [
        "import pandas as pd\n",
        "diccionario_pais ={\n",
        "    \"pais\"    : [\"Brazil\", \"Russia\", \"Colombia\", \"China\",\"panama\"],\n",
        "    \"capital\" : [\"Brasilia\", \"Moscow\", \"Bogota\", \"Pekin\",\"ciudad panama\"],\n",
        "}\n",
        "info_paises = pd.DataFrame(diccionario_pais, columns=[\"pais\",\"capital\"])\n",
        "print(info_paises)"
      ],
      "metadata": {
        "colab": {
          "base_uri": "https://localhost:8080/"
        },
        "id": "KG7Gae911YoP",
        "outputId": "2bda02d3-4edc-40f8-c893-d9ddc2b3f10f"
      },
      "execution_count": null,
      "outputs": [
        {
          "output_type": "stream",
          "name": "stdout",
          "text": [
            "       pais        capital\n",
            "0    Brazil       Brasilia\n",
            "1    Russia         Moscow\n",
            "2  Colombia         Bogota\n",
            "3     China          Pekin\n",
            "4    panama  ciudad panama\n"
          ]
        }
      ]
    },
    {
      "cell_type": "code",
      "source": [
        "import pandas as pd\n",
        "\n",
        "diccionario_pais ={\n",
        "    \"pais\"    : [\"Brazil\", \"Russia\", \"Colombia\", \"China\",\"panama\"],\n",
        "    \"capital\" : [\"Brasilia\", \"Moscow\", \"Bogota\", \"Pekin\",\"ciudad panama\"],\n",
        "}\n",
        "\n",
        "diccionario_area ={\n",
        "    \"pais\"    : [\"Brazil\", \"Russia\", \"Colombia\", \"China\",\"España\"],\n",
        "    \"area\"    : [8654, 10520, 2225, 9750,1234],\n",
        "}\n",
        "\n",
        "#print(diccionario)\n",
        "info_paises = pd.DataFrame(diccionario_pais, columns=[\"pais\",\"capital\"])\n",
        "info_paises_area = pd.DataFrame(diccionario_area, columns=[\"pais\",\"area\"])\n",
        "\n",
        "info_paises_new = info_paises.merge(info_paises_area, how=\"right\", on=[\"pais\"])\n",
        "\n",
        "\n",
        "#print(info_paises, type(info_paises))\n",
        "\n",
        "#print(info_paises[\"pais\"])\n",
        "\n",
        "print(info_paises)\n",
        "print(info_paises_area)\n",
        "print(info_paises_new)\n"
      ],
      "metadata": {
        "colab": {
          "base_uri": "https://localhost:8080/"
        },
        "id": "N93PpgphA2a7",
        "outputId": "6ce8c0b2-9f26-4de7-b576-5b8e5ade1214"
      },
      "execution_count": null,
      "outputs": [
        {
          "output_type": "stream",
          "name": "stdout",
          "text": [
            "       pais        capital\n",
            "0    Brazil       Brasilia\n",
            "1    Russia         Moscow\n",
            "2  Colombia         Bogota\n",
            "3     China          Pekin\n",
            "4    panama  ciudad panama\n",
            "       pais   area\n",
            "0    Brazil   8654\n",
            "1    Russia  10520\n",
            "2  Colombia   2225\n",
            "3     China   9750\n",
            "4    España   1234\n",
            "       pais   capital   area\n",
            "0    Brazil  Brasilia   8654\n",
            "1    Russia    Moscow  10520\n",
            "2  Colombia    Bogota   2225\n",
            "3     China     Pekin   9750\n",
            "4    España       NaN   1234\n"
          ]
        }
      ]
    },
    {
      "cell_type": "code",
      "source": [
        "lista = [2,3,4,5]\n",
        "print(lista + 5)"
      ],
      "metadata": {
        "colab": {
          "base_uri": "https://localhost:8080/",
          "height": 183
        },
        "id": "HObxU5Uy2QNI",
        "outputId": "904ad736-0699-479c-c69f-d75273ed4af3"
      },
      "execution_count": null,
      "outputs": [
        {
          "output_type": "error",
          "ename": "TypeError",
          "evalue": "ignored",
          "traceback": [
            "\u001b[0;31m---------------------------------------------------------------------------\u001b[0m",
            "\u001b[0;31mTypeError\u001b[0m                                 Traceback (most recent call last)",
            "\u001b[0;32m<ipython-input-1-5403338b73b8>\u001b[0m in \u001b[0;36m<module>\u001b[0;34m()\u001b[0m\n\u001b[1;32m      1\u001b[0m \u001b[0mlista\u001b[0m \u001b[0;34m=\u001b[0m \u001b[0;34m[\u001b[0m\u001b[0;36m2\u001b[0m\u001b[0;34m,\u001b[0m\u001b[0;36m3\u001b[0m\u001b[0;34m,\u001b[0m\u001b[0;36m4\u001b[0m\u001b[0;34m,\u001b[0m\u001b[0;36m5\u001b[0m\u001b[0;34m]\u001b[0m\u001b[0;34m\u001b[0m\u001b[0;34m\u001b[0m\u001b[0m\n\u001b[0;32m----> 2\u001b[0;31m \u001b[0mprint\u001b[0m\u001b[0;34m(\u001b[0m\u001b[0mlista\u001b[0m \u001b[0;34m+\u001b[0m \u001b[0;36m5\u001b[0m\u001b[0;34m)\u001b[0m\u001b[0;34m\u001b[0m\u001b[0;34m\u001b[0m\u001b[0m\n\u001b[0m",
            "\u001b[0;31mTypeError\u001b[0m: can only concatenate list (not \"int\") to list"
          ]
        }
      ]
    },
    {
      "cell_type": "code",
      "source": [
        "import numpy as np\n",
        "\n",
        "lista = np.arange(1,11,2,dtype=float)\n",
        "print(lista)"
      ],
      "metadata": {
        "colab": {
          "base_uri": "https://localhost:8080/"
        },
        "id": "yUliT0CuGaua",
        "outputId": "c720a0cf-059e-4262-ac5a-15b756aa1888"
      },
      "execution_count": null,
      "outputs": [
        {
          "output_type": "stream",
          "name": "stdout",
          "text": [
            "[1. 3. 5. 7. 9.]\n"
          ]
        }
      ]
    },
    {
      "cell_type": "code",
      "source": [
        "nombre = input()"
      ],
      "metadata": {
        "id": "OeCfURKENqxa"
      },
      "execution_count": null,
      "outputs": []
    }
  ]
}